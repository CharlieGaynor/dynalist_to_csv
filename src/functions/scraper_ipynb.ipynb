{
 "cells": [
  {
   "cell_type": "code",
   "execution_count": 11,
   "id": "9b5bf40d",
   "metadata": {},
   "outputs": [],
   "source": [
    "import requests\n",
    "import json\n",
    "import pandas\n",
    "\n",
    "\n",
    "class scraper():\n",
    "    \"\"\"\n",
    "    Use the API to scrape dynalist to get the dom\n",
    "    \"\"\"\n",
    "\n",
    "    def __init__(self) -> None:\n",
    "        self.token = json.load(open('../../api_token.json')).get(\"token\")\n",
    "        self.file_contents: dict[str: str] = {}\n",
    "        self.file_questions_map: dict[str: dict[str: str]] = {}\n",
    "\n",
    "    def get_all_files(self) -> None:\n",
    "        \"\"\"\n",
    "        grabs all folders and files from within dynalist by querying the API\n",
    "        Stores information about the files in self.file_info\n",
    "        Stores dictionary of file id: file name, to be able to fetch the full doc\n",
    "        \"\"\"\n",
    "\n",
    "        response = requests.post(\n",
    "            \"https://dynalist.io/api/v1/file/list\", json.dumps({'token': self.token})).text\n",
    "\n",
    "        # Now convert the text representation of a dictionary, into a dictionary\n",
    "        response = eval(response.replace(\n",
    "            'false', 'False').replace('true', 'True'))\n",
    "\n",
    "        # files_info has form: name (type): number\n",
    "        files_info: list[str] = []\n",
    "        filenumber_id_map: dict[str: str] = {}\n",
    "\n",
    "        current_file = 1\n",
    "        for file in response['files']:\n",
    "            title = file['title']\n",
    "            file_type = file['type']\n",
    "            id = file['id']\n",
    "\n",
    "            files_info.append(f\"{title} ({file_type}): {current_file}\")\n",
    "            filenumber_id_map[current_file] = id\n",
    "\n",
    "            current_file += 1\n",
    "\n",
    "        self.files = files_info\n",
    "        self.filenumber_id_map = filenumber_id_map\n",
    "\n",
    "    def get_file_contents(self, filenumber: int) -> None:\n",
    "\n",
    "        file_id = self.filenumber_id_map[filenumber]\n",
    "        args = {\n",
    "            'token': self.token,\n",
    "            'file_id': file_id\n",
    "        }\n",
    "\n",
    "        response = requests.post(\n",
    "            \"https://dynalist.io/api/v1/doc/read\", json.dumps(args)\n",
    "        )\n",
    "        self.file_contents[file_id] = eval(response.text.replace(\n",
    "            'false', 'False').replace('true', 'True'))\n",
    "\n",
    "    def save_file_contents(self, filenumber: int) -> None:\n",
    "\n",
    "        file_id = self.filenumber_id_map[filenumber]\n",
    "        file_contents = self.file_contents[file_id]\n",
    "\n",
    "        question_answer_map: dict[str: str] = {}\n",
    "\n",
    "        nodes = file_contents['nodes']\n",
    "\n",
    "        for node in nodes:\n",
    "            node_text = node['content']\n",
    "            questions = [\n",
    "                'question:',\n",
    "                'questions:',\n",
    "                'question',\n",
    "                'questions',\n",
    "            ]\n",
    "            if node_text.lower().strip() in questions:\n",
    "                main_child_nodes = node['children']\n",
    "                for child_id in main_child_nodes:\n",
    "                    # Now need to search for the node with this id\n",
    "                    question = main_child_node['content']\n",
    "                    answer = ''\n",
    "                    question_child_nodes = main_child_node['children']\n",
    "                    for question_child_node in question_child_nodes:\n",
    "                        answer += question_child_node['content']\n",
    "                        answer += '<br/>'\n",
    "\n",
    "                    question_answer_map[question] = answer\n",
    "        \n",
    "        self.file_questions_map[file_id] = question_answer_map\n",
    "\n",
    "    def update_file_colors(self, filenumber: int) -> None:\n",
    "\n",
    "        file_id = self.filenumber_id_map[filenumber]\n",
    "        file_contents = self.file_contents[file_id]\n"
   ]
  },
  {
   "cell_type": "code",
   "execution_count": 12,
   "id": "9528dd8d",
   "metadata": {},
   "outputs": [],
   "source": [
    "a = scraper()\n",
    "a.get_all_files()"
   ]
  },
  {
   "cell_type": "code",
   "execution_count": 13,
   "id": "22da384c",
   "metadata": {},
   "outputs": [
    {
     "data": {
      "text/plain": [
       "['Untitled (folder): 1',\n",
       " 'Project priority list (document): 2',\n",
       " 'Flask with python (document): 3',\n",
       " 'Udemy (folder): 4',\n",
       " 'Flask with python (folder): 5']"
      ]
     },
     "execution_count": 13,
     "metadata": {},
     "output_type": "execute_result"
    }
   ],
   "source": [
    "a.files"
   ]
  },
  {
   "cell_type": "code",
   "execution_count": 14,
   "id": "413e2ce2",
   "metadata": {},
   "outputs": [],
   "source": [
    "a.get_file_contents(3)"
   ]
  },
  {
   "cell_type": "code",
   "execution_count": 15,
   "id": "c2dd2240",
   "metadata": {},
   "outputs": [
    {
     "ename": "TypeError",
     "evalue": "string indices must be integers",
     "output_type": "error",
     "traceback": [
      "\u001b[0;31m---------------------------------------------------------------------------\u001b[0m",
      "\u001b[0;31mTypeError\u001b[0m                                 Traceback (most recent call last)",
      "\u001b[1;32m/Users/personal/git/dynalist_to_csv/src/functions/scraper_ipynb.ipynb Cell 5'\u001b[0m in \u001b[0;36m<cell line: 1>\u001b[0;34m()\u001b[0m\n\u001b[0;32m----> <a href='vscode-notebook-cell:/Users/personal/git/dynalist_to_csv/src/functions/scraper_ipynb.ipynb#ch0000004?line=0'>1</a>\u001b[0m a\u001b[39m.\u001b[39;49msave_file_contents(\u001b[39m3\u001b[39;49m)\n",
      "\u001b[1;32m/Users/personal/git/dynalist_to_csv/src/functions/scraper_ipynb.ipynb Cell 1'\u001b[0m in \u001b[0;36mscraper.save_file_contents\u001b[0;34m(self, filenumber)\u001b[0m\n\u001b[1;32m     <a href='vscode-notebook-cell:/Users/personal/git/dynalist_to_csv/src/functions/scraper_ipynb.ipynb#ch0000000?line=79'>80</a>\u001b[0m main_child_nodes \u001b[39m=\u001b[39m node[\u001b[39m'\u001b[39m\u001b[39mchildren\u001b[39m\u001b[39m'\u001b[39m]\n\u001b[1;32m     <a href='vscode-notebook-cell:/Users/personal/git/dynalist_to_csv/src/functions/scraper_ipynb.ipynb#ch0000000?line=80'>81</a>\u001b[0m \u001b[39mfor\u001b[39;00m main_child_node \u001b[39min\u001b[39;00m main_child_nodes:\n\u001b[0;32m---> <a href='vscode-notebook-cell:/Users/personal/git/dynalist_to_csv/src/functions/scraper_ipynb.ipynb#ch0000000?line=81'>82</a>\u001b[0m     question \u001b[39m=\u001b[39m main_child_node[\u001b[39m'\u001b[39;49m\u001b[39mcontent\u001b[39;49m\u001b[39m'\u001b[39;49m]\n\u001b[1;32m     <a href='vscode-notebook-cell:/Users/personal/git/dynalist_to_csv/src/functions/scraper_ipynb.ipynb#ch0000000?line=82'>83</a>\u001b[0m     answer \u001b[39m=\u001b[39m \u001b[39m'\u001b[39m\u001b[39m'\u001b[39m\n\u001b[1;32m     <a href='vscode-notebook-cell:/Users/personal/git/dynalist_to_csv/src/functions/scraper_ipynb.ipynb#ch0000000?line=83'>84</a>\u001b[0m     question_child_nodes \u001b[39m=\u001b[39m main_child_node[\u001b[39m'\u001b[39m\u001b[39mchildren\u001b[39m\u001b[39m'\u001b[39m]\n",
      "\u001b[0;31mTypeError\u001b[0m: string indices must be integers"
     ]
    }
   ],
   "source": [
    "a.save_file_contents(3)"
   ]
  },
  {
   "cell_type": "code",
   "execution_count": null,
   "id": "cd141dcf",
   "metadata": {},
   "outputs": [],
   "source": []
  }
 ],
 "metadata": {
  "kernelspec": {
   "display_name": "Python 3 (ipykernel)",
   "language": "python",
   "name": "python3"
  },
  "language_info": {
   "codemirror_mode": {
    "name": "ipython",
    "version": 3
   },
   "file_extension": ".py",
   "mimetype": "text/x-python",
   "name": "python",
   "nbconvert_exporter": "python",
   "pygments_lexer": "ipython3",
   "version": "3.9.12"
  }
 },
 "nbformat": 4,
 "nbformat_minor": 5
}
