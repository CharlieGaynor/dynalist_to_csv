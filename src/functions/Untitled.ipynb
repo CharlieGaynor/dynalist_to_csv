{
 "cells": [
  {
   "cell_type": "code",
   "execution_count": 186,
   "id": "9b5bf40d",
   "metadata": {},
   "outputs": [],
   "source": [
    "import requests\n",
    "import json\n",
    "\n",
    "class scraper():\n",
    "    \"\"\"\n",
    "    Use the API to scrape dynalist to get the dom\n",
    "    \"\"\"\n",
    "\n",
    "    def __init__(self):\n",
    "        self.token = json.load(open('../../api_token.json')).get(\"token\")\n",
    "\n",
    "    def get_all_files(self):\n",
    "        \"\"\"\n",
    "        grabs all folders and files from within dynalist by querying the API\n",
    "        Stores information about the files in self.file_info\n",
    "        Stores dictionary of file id: file name, to be able to fetch the full doc\n",
    "        \"\"\"\n",
    "        \n",
    "        response = requests.post(\"https://dynalist.io/api/v1/file/list\", json.dumps({'token': self.token})).text\n",
    "        \n",
    "        # Now convert the text representation of a dictionary, into a dictionary\n",
    "        response = eval(response.replace('false', 'False').replace('true', 'True'))\n",
    "        \n",
    "        # files_info has form: name (type): number\n",
    "        files_info: list[str] = []\n",
    "        filenumber_id_map: dict[str: str] = {}\n",
    "\n",
    "        current_file = 1\n",
    "        for file in response['files']:\n",
    "            title = file['title']\n",
    "            file_type = file['type']\n",
    "            id = file['id']\n",
    "\n",
    "            files_info.append(f\"{title} ({file_type}): {current_file}\")\n",
    "            filenumber_id_map[current_file] = id\n",
    "            \n",
    "            current_file += 1\n",
    "        \n",
    "        self.files = files_info\n",
    "        self.filenumber_id_map = filenumber_id_map\n",
    "        \n",
    "    def get_file_contents(self, filenumber: int):\n",
    "\n",
    "        file_id = self.filenumber_id_map[filenumber]\n",
    "        args = {\n",
    "            'token': self.token,\n",
    "            'file_id': file_id\n",
    "        }\n",
    "        \n",
    "        response = requests.post(\n",
    "            \"https://dynalist.io/api/v1/doc/read\", json.dumps(args)\n",
    "        )\n",
    "        print(response.text)"
   ]
  },
  {
   "cell_type": "code",
   "execution_count": 187,
   "id": "9528dd8d",
   "metadata": {},
   "outputs": [],
   "source": [
    "a = scraper()\n",
    "a.get_all_files()"
   ]
  },
  {
   "cell_type": "code",
   "execution_count": 188,
   "id": "22da384c",
   "metadata": {},
   "outputs": [
    {
     "data": {
      "text/plain": [
       "['Untitled (folder): 1',\n",
       " 'Project priority list (document): 2',\n",
       " 'Flask with python (document): 3',\n",
       " 'Udemy (folder): 4',\n",
       " 'Flask with python (folder): 5']"
      ]
     },
     "execution_count": 188,
     "metadata": {},
     "output_type": "execute_result"
    }
   ],
   "source": [
    "a.files"
   ]
  },
  {
   "cell_type": "code",
   "execution_count": 189,
   "id": "413e2ce2",
   "metadata": {},
   "outputs": [
    {
     "name": "stdout",
     "output_type": "stream",
     "text": [
      "{\"_code\":\"Ok\",\"file_id\":\"sgPoOIDcVfQd7sXl6W351f0A\",\"title\":\"Flask with python\",\"nodes\":[{\"id\":\"root\",\"content\":\"Flask with python\",\"note\":\"\",\"children\":[\"QKPjEwXSJzpOWbGOnKKj-rwD\",\"vs-jVci0waiWGkC260p3azic\",\"MVj4nVrCUSHQu8VUnyISOvW-\"],\"created\":1650730745583,\"modified\":1650730745583},{\"id\":\"QKPjEwXSJzpOWbGOnKKj-rwD\",\"content\":\"HTML:\",\"note\":\"\",\"color\":5,\"children\":[\"GkHuf3t4QYow3trtYny6Vt75\",\"wjaVBzIc-VoEYgVf3UEr67v3\",\"oKB5t0dtRFIuhW1yPw73P-R0\",\"BrAZMLSAmdH8YLufD-7MSVrH\",\"3TZ5WdPBgROvS3CdWzNpIyBa\",\"HoSHx45Wxfg7Ycyi08Wms8pb\",\"KYPtKgPx2azOIjHh9LPuty4n\",\"BidcFGAGfRmqfzDYVukXavSn\",\"UvxLtKRNb23h7KOp9PahvtsF\",\"ybmRI-nXs1Jxg_rJE_-PEvLq\",\"e7CriLfES-JJRlJOQ4jXjVp_\",\"srHzFkBocZX1XBz5-zeEkZTx\",\"cO-e-UEzYPvHXjlhFCc0ENwV\",\"og0YziojqpO36jkGvqfrSjbN\",\"0EM2nIjbYVbcAQck5n8droip\",\"SfKAob_Zqny8KhyDi99OOsSq\",\"XJJcu8fOXlhjnfJS_gHG9fqm\",\"nHQ7rxUHM7XUbwvwl9X8jtdX\",\"cAixr0om-9kP7oBxL9X9P6PQ\",\"Wyjiuuw0PX2I-9gD0Uszlo-O\",\"tteyOREiaf9SkbxvRDnAMlit\"],\"created\":1650736969222,\"modified\":1650788673872},{\"id\":\"GkHuf3t4QYow3trtYny6Vt75\",\"content\":\"What goes at the top of every html file?\",\"note\":\"\",\"collapsed\":true,\"color\":2,\"children\":[\"Vrcz5_HbOyaQZhSJaHp3m1N7\"],\"created\":1650736971773,\"modified\":1650788673872},{\"id\":\"oKB5t0dtRFIuhW1yPw73P-R0\",\"content\":\"Order of the only 3 important tags (html is within them\",\"note\":\"\",\"collapsed\":true,\"color\":2,\"children\":[\"nRyagTKVzAQug1kSzQEK8M0a\",\"FTCexFEgc2twZt2XvJT6ojdq\",\"PikjNUtUkj_7dhV3fqm_9-0w\"],\"created\":1650736982135,\"modified\":1650788673872},{\"id\":\"Vrcz5_HbOyaQZhSJaHp3m1N7\",\"content\":\"<!DOCTYPE html>\",\"note\":\"\",\"created\":1650736999012,\"modified\":1650737017545},{\"id\":\"wjaVBzIc-VoEYgVf3UEr67v3\",\"content\":\"What's the difference between <ol> and <ul>\",\"note\":\"\",\"collapsed\":true,\"color\":2,\"children\":[\"GJnokc_UPECjemmA9bqPuojD\",\"adDAV6fUwWddYpIe8fYNSlQG\"],\"created\":1650737015105,\"modified\":1650788673872},{\"id\":\"adDAV6fUwWddYpIe8fYNSlQG\",\"content\":\"UL is an unordered list ( just bullet points)\",\"note\":\"\",\"created\":1650737031016,\"modified\":1650737043400},{\"id\":\"GJnokc_UPECjemmA9bqPuojD\",\"content\":\"Ol is an ordered list (has numbers)\",\"note\":\"\",\"created\":1650737025786,\"modified\":1650737037866},{\"id\":\"nRyagTKVzAQug1kSzQEK8M0a\",\"content\":\"<html>\",\"note\":\"\",\"created\":1650737096054,\"modified\":1650737117531},{\"id\":\"PikjNUtUkj_7dhV3fqm_9-0w\",\"content\":\"<body>\",\"note\":\"\",\"created\":1650737100584,\"modified\":1650737117531},{\"id\":\"FTCexFEgc2twZt2XvJT6ojdq\",\"content\":\"<head>\",\"note\":\"\",\"created\":1650737098397,\"modified\":1650737117531},{\"id\":\"HYooveurVCebN5BXIsKYYcIi\",\"content\":\"<em>\",\"note\":\"\",\"created\":1650737111616,\"modified\":1650737117531},{\"id\":\"3TZ5WdPBgROvS3CdWzNpIyBa\",\"content\":\"How to do bold\",\"note\":\"\",\"collapsed\":true,\"color\":2,\"children\":[\"q4NQAa0QFsgjaJvY6m6MZfuC\"],\"created\":1650737113266,\"modified\":1650788673872},{\"id\":\"q4NQAa0QFsgjaJvY6m6MZfuC\",\"content\":\"<strength>\",\"note\":\"\",\"created\":1650737115810,\"modified\":1650737137423},{\"id\":\"BrAZMLSAmdH8YLufD-7MSVrH\",\"content\":\"How to make italics\",\"note\":\"\",\"collapsed\":true,\"color\":2,\"children\":[\"HYooveurVCebN5BXIsKYYcIi\"],\"created\":1650737104475,\"modified\":1650788673872},{\"id\":\"KYPtKgPx2azOIjHh9LPuty4n\",\"content\":\"What are divs and classes for?\",\"note\":\"\",\"collapsed\":true,\"color\":2,\"children\":[\"ew8lR7cvFgvTmtAluj-i8wvT\"],\"created\":1650737130133,\"modified\":1650788673872},{\"id\":\"HoSHx45Wxfg7Ycyi08Wms8pb\",\"content\":\"how to do paragraphs\",\"note\":\"\",\"collapsed\":true,\"color\":2,\"children\":[\"1jSKbU4sPNkgkgCVa5Ol-S3Z\"],\"created\":1650737119748,\"modified\":1650788673872},{\"id\":\"1jSKbU4sPNkgkgCVa5Ol-S3Z\",\"content\":\"<p>\",\"note\":\"\",\"created\":1650737127790,\"modified\":1650737137423},{\"id\":\"ew8lR7cvFgvTmtAluj-i8wvT\",\"content\":\"Divides up sections so we can apply CSS styling to just certain sections\",\"note\":\"\",\"created\":1650737239197,\"modified\":1650737258758},{\"id\":\"BidcFGAGfRmqfzDYVukXavSn\",\"content\":\"What does span do?\",\"note\":\"\",\"collapsed\":true,\"color\":2,\"children\":[\"-P1okFbt7mv6_awG287aAAmX\"],\"created\":1650737296614,\"modified\":1650788673872},{\"id\":\"0qMOpGcUDWraVTkjSR7jbVsI\",\"content\":\"<p> i only want to style <span class='urmum'> this text </span>\",\"note\":\"\",\"created\":1650737312163,\"modified\":1650737329055},{\"id\":\"-P1okFbt7mv6_awG287aAAmX\",\"content\":\"Similar to div, but for text already within a section e.g. a paragraph\",\"note\":\"\",\"children\":[\"0qMOpGcUDWraVTkjSR7jbVsI\"],\"created\":1650737299379,\"modified\":1650737317881},{\"id\":\"UvxLtKRNb23h7KOp9PahvtsF\",\"content\":\"Give me two ways to show an img\",\"note\":\"\",\"collapsed\":true,\"color\":2,\"children\":[\"jIYT4BbCXMxRraGEaGHi_G2g\"],\"created\":1650737327388,\"modified\":1650788673872},{\"id\":\"jIYT4BbCXMxRraGEaGHi_G2g\",\"content\":\"<img src=LINK or path to local.jp, alt='text incase pic doesn't exist''>\",\"note\":\"\",\"children\":[\"VymWqL9sOEjbASQNYwDGdIcT\"],\"created\":1650779141324,\"modified\":1650779181855},{\"id\":\"VymWqL9sOEjbASQNYwDGdIcT\",\"content\":\"Note img is self closing\",\"note\":\"\",\"created\":1650779176751,\"modified\":1650779181855},{\"id\":\"ybmRI-nXs1Jxg_rJE_-PEvLq\",\"content\":\"What is an <a> tag or \\\"anchor\\\" tag?\",\"note\":\"\",\"collapsed\":true,\"color\":2,\"children\":[\"wn46d-MK5LWmgpKRD_uVo_GJ\"],\"created\":1650779241158,\"modified\":1650788673872},{\"id\":\"wn46d-MK5LWmgpKRD_uVo_GJ\",\"content\":\"Allows hyerplinks\",\"note\":\"\",\"created\":1650779357297,\"modified\":1650779388502},{\"id\":\"wmpKCcDZtsPY0qGmher-J8rM\",\"content\":\"<a href=LINK>\\\"text for link\\\"</a>\",\"note\":\"\",\"created\":1650779377045,\"modified\":1650779408520},{\"id\":\"e7CriLfES-JJRlJOQ4jXjVp_\",\"content\":\"How to use <a> tags?\",\"note\":\"\",\"collapsed\":true,\"color\":2,\"children\":[\"wmpKCcDZtsPY0qGmher-J8rM\"],\"created\":1650779370367,\"modified\":1650788673872},{\"id\":\"srHzFkBocZX1XBz5-zeEkZTx\",\"content\":\"What are the building blocks of forms?\",\"note\":\"\",\"collapsed\":true,\"color\":2,\"children\":[\"11gu7LGPVoISMAFnG32NaERw\"],\"created\":1650783032034,\"modified\":1650788673872},{\"id\":\"11gu7LGPVoISMAFnG32NaERw\",\"content\":\"<input type='' name='' value=''>\",\"note\":\"\",\"collapsed\":true,\"children\":[\"NNpoaf53ChUeSD9z2a7kCj98\",\"Onmcm2NuI6faDMJRsfklLvv0\",\"6YDaUM_vtFQRNaiMzGgZvjEF\"],\"created\":1650783039523,\"modified\":1650783067911},{\"id\":\"NNpoaf53ChUeSD9z2a7kCj98\",\"content\":\"Name is htmls' name for it\",\"note\":\"\",\"created\":1650783055898,\"modified\":1650783067911},{\"id\":\"6YDaUM_vtFQRNaiMzGgZvjEF\",\"content\":\"type is e.g password, email, submit\",\"note\":\"\",\"created\":1650783063801,\"modified\":1650783074554},{\"id\":\"Onmcm2NuI6faDMJRsfklLvv0\",\"content\":\"value is the displayed name\",\"note\":\"\",\"created\":1650783060306,\"modified\":1650783067911},{\"id\":\"cO-e-UEzYPvHXjlhFCc0ENwV\",\"content\":\"How to submit contents of a form?\",\"note\":\"\",\"collapsed\":true,\"color\":2,\"children\":[\"i2YOcDc6FnDtO6v2Kpj4kytt\"],\"created\":1650783077764,\"modified\":1650788673872},{\"id\":\"i2YOcDc6FnDtO6v2Kpj4kytt\",\"content\":\"<form action='https:website.com' method='get'>\",\"note\":\"\",\"created\":1650786342875,\"modified\":1650786387145},{\"id\":\"ee-V9qnHArNO9fHiUEz6eVb1\",\"content\":\"<label for='emailtag'>EMAIL:</label>\",\"note\":\"\",\"created\":1650786393418,\"modified\":1650786416903},{\"id\":\"og0YziojqpO36jkGvqfrSjbN\",\"content\":\"How to add labels in forms?\",\"note\":\"\",\"collapsed\":true,\"color\":2,\"children\":[\"ee-V9qnHArNO9fHiUEz6eVb1\",\"mOICHnuKalL2mlQ3OxPl-J1j\"],\"created\":1650786389260,\"modified\":1650788673872},{\"id\":\"mOICHnuKalL2mlQ3OxPl-J1j\",\"content\":\"<input id='emailtag'....>\",\"note\":\"\",\"created\":1650786411395,\"modified\":1650786456569},{\"id\":\"0EM2nIjbYVbcAQck5n8droip\",\"content\":\"What is a radio button?\",\"note\":\"\",\"collapsed\":true,\"color\":2,\"children\":[\"Ll5cOzRwE7d7kuGxcYl_vnFF\"],\"created\":1650786448707,\"modified\":1650788673872},{\"id\":\"Ll5cOzRwE7d7kuGxcYl_vnFF\",\"content\":\"Button which can be pressed but no depressed (similar to checkbox but taht can be toggled always)\",\"note\":\"\",\"created\":1650786556547,\"modified\":1650786596900},{\"id\":\"SfKAob_Zqny8KhyDi99OOsSq\",\"content\":\"How to link two radio buttons?\",\"note\":\"\",\"collapsed\":true,\"color\":2,\"children\":[\"hLcs9v2529QfWBotPIj95xIM\"],\"created\":1650786591267,\"modified\":1650788673872},{\"id\":\"XJJcu8fOXlhjnfJS_gHG9fqm\",\"content\":\"How to make a dropdown menu\",\"note\":\"\",\"collapsed\":true,\"color\":2,\"children\":[\"0FKqRABdYvstSTkpx6TKsRUa\"],\"created\":1650786602451,\"modified\":1650788673872},{\"id\":\"hLcs9v2529QfWBotPIj95xIM\",\"content\":\"Make sure they share the same name\",\"note\":\"\",\"created\":1650786596267,\"modified\":1650786613000},{\"id\":\"0FKqRABdYvstSTkpx6TKsRUa\",\"content\":\"<select name='example_dropdown_blah'>\",\"note\":\"\",\"children\":[\"VJjhIw9kA8IswOn3b1pnAsKC\",\"c1dd00bepXCYO7dvNlgTBCAz\",\"cQRN-nyfXYX1I_2FggKJQVQN\"],\"created\":1650786641277,\"modified\":1650786670890},{\"id\":\"VJjhIw9kA8IswOn3b1pnAsKC\",\"content\":\"<option value='Great'> 1 </option>\",\"note\":\"\",\"created\":1650786656061,\"modified\":1650786696579},{\"id\":\"nHQ7rxUHM7XUbwvwl9X8jtdX\",\"content\":\"How to add a text form box?\",\"note\":\"\",\"collapsed\":true,\"color\":2,\"children\":[\"qcflL9cuWTgGsJ8UriGo--na\"],\"created\":1650786687061,\"modified\":1650788673872},{\"id\":\"cQRN-nyfXYX1I_2FggKJQVQN\",\"content\":\"</select>\",\"note\":\"\",\"created\":1650786684181,\"modified\":1650786696579},{\"id\":\"c1dd00bepXCYO7dvNlgTBCAz\",\"content\":\"etc\",\"note\":\"\",\"created\":1650786681845,\"modified\":1650786696579},{\"id\":\"qcflL9cuWTgGsJ8UriGo--na\",\"content\":\"<textarea>\",\"note\":\"\",\"created\":1650786720541,\"modified\":1650786736688},{\"id\":\"vs-jVci0waiWGkC260p3azic\",\"content\":\"CSS:\",\"note\":\"\",\"color\":5,\"children\":[\"4FFqrjyiEMbzUciREtG93kwZ\",\"rINpktJishpPL0Yv2Y9t2c4V\",\"A5worquwRNEg3lRvVSvAFLZ0\"],\"created\":1650786729413,\"modified\":1650788673872},{\"id\":\"rINpktJishpPL0Yv2Y9t2c4V\",\"content\":\"What are the four ways to define colors in css\",\"note\":\"\",\"collapsed\":true,\"children\":[\"f4MLAMbC3EMv7lZUCVlJk57s\",\"SEmlzPHIqqwCGk9hm5ZmgLNs\",\"-UV2qNbD5ZMWoNAwljBt6NZa\",\"vs-oI4N3Pd8M3756ik-hYIs8\"],\"created\":1650788613002,\"modified\":1650788636898},{\"id\":\"f4MLAMbC3EMv7lZUCVlJk57s\",\"content\":\"color:blue;\",\"note\":\"\",\"created\":1650788621195,\"modified\":1650788636898},{\"id\":\"SEmlzPHIqqwCGk9hm5ZmgLNs\",\"content\":\"color: rbg(10,10,10);\",\"note\":\"\",\"created\":1650788625505,\"modified\":1650788636898},{\"id\":\"vs-oI4N3Pd8M3756ik-hYIs8\",\"content\":\"color: #hexcodeeab01c\",\"note\":\"\",\"created\":1650788642540,\"modified\":1650788656898},{\"id\":\"-UV2qNbD5ZMWoNAwljBt6NZa\",\"content\":\"color: rgba(10, 10, 10, 10)\",\"note\":\"\",\"created\":1650788634394,\"modified\":1650788656898},{\"id\":\"cAixr0om-9kP7oBxL9X9P6PQ\",\"content\":\"What are HTML divs for?\",\"note\":\"\",\"collapsed\":true,\"children\":[\"IzJa6D15as6nxoh1NwR_oPYg\"],\"created\":1650789066703,\"modified\":1650789076607},{\"id\":\"IzJa6D15as6nxoh1NwR_oPYg\",\"content\":\"Basically containers for elements to allow CSS styling to just these aspects\",\"note\":\"\",\"created\":1650789070343,\"modified\":1650789095200},{\"id\":\"Wyjiuuw0PX2I-9gD0Uszlo-O\",\"content\":\"What are Spans for?\",\"note\":\"\",\"collapsed\":true,\"children\":[\"dEcINWsD3C1NMwO-ODCsjyDP\",\"pBMmS0jO8ocPfGjLCvPyySWu\"],\"created\":1650793752867,\"modified\":1650793780749},{\"id\":\"pBMmS0jO8ocPfGjLCvPyySWu\",\"content\":\"you can span within a div, don't know if you can div within a div?\",\"note\":\"\",\"created\":1650793776331,\"modified\":1650794401155},{\"id\":\"dEcINWsD3C1NMwO-ODCsjyDP\",\"content\":\"Inline versions of divs (which are used for blocks)\",\"note\":\"\",\"created\":1650793761317,\"modified\":1650793780749},{\"id\":\"4FFqrjyiEMbzUciREtG93kwZ\",\"content\":\"notes:\",\"note\":\"\",\"collapsed\":true,\"children\":[\"CmQ2NvOtdiWQkARbmnRrM9bU\"],\"created\":1650794029057,\"modified\":1650794040803},{\"id\":\"CmQ2NvOtdiWQkARbmnRrM9bU\",\"content\":\"How do you use external fonts on just some of css code?\",\"note\":\"\",\"created\":1650794030243,\"modified\":1650796828891},{\"id\":\"gvjzxLKNWNtNKUy5phtqsV9d\",\"content\":\"ID can only be used once per page (like a serial number)\",\"note\":\"\",\"created\":1650794392496,\"modified\":1650794409568},{\"id\":\"tteyOREiaf9SkbxvRDnAMlit\",\"content\":\"Difference betwen Id and class?\",\"note\":\"\",\"collapsed\":true,\"children\":[\"gvjzxLKNWNtNKUy5phtqsV9d\",\"l3YMFAyXwgij4nlNJjiGVqbp\"],\"created\":1650794384148,\"modified\":1650794401155},{\"id\":\"l3YMFAyXwgij4nlNJjiGVqbp\",\"content\":\"class multiple times ( like a barcode)\",\"note\":\"\",\"created\":1650794399618,\"modified\":1650794409568},{\"id\":\"A5worquwRNEg3lRvVSvAFLZ0\",\"content\":\"How to use template fonts from onlie?\",\"note\":\"\",\"collapsed\":true,\"children\":[\"jiiX4pZ72W2WuV9EDaxqL8qg\"],\"created\":1650795076034,\"modified\":1650795099029},{\"id\":\"jiiX4pZ72W2WuV9EDaxqL8qg\",\"content\":\"<link href=https://www.fontlink.com rel='stylesheet'>\",\"note\":\"\",\"created\":1650795081000,\"modified\":1650796677848},{\"id\":\"MVj4nVrCUSHQu8VUnyISOvW-\",\"content\":\"Bootstrap:\",\"note\":\"\",\"children\":[\"5o4RzWwxQoadw6eFnkWEzEct\",\"JyslLQQZTUsc7gBooFgOc9wo\"],\"created\":1650798571937,\"modified\":1650798622691},{\"id\":\"JyslLQQZTUsc7gBooFgOc9wo\",\"content\":\"What is boostrap?\",\"note\":\"\",\"children\":[\"NWb9z0G6nCosJyFz5HSlK6x9\",\"ducl2G0tutlgIbmxFeOp4mHW\",\"xP0tbYHhAR8qFzHnH_DJ948E\"],\"created\":1650798573393,\"modified\":1650798592350},{\"id\":\"NWb9z0G6nCosJyFz5HSlK6x9\",\"content\":\"Basically A css Style sheet for a bunch of classes\",\"note\":\"\",\"created\":1650798575914,\"modified\":1650798592350},{\"id\":\"ducl2G0tutlgIbmxFeOp4mHW\",\"content\":\"Then premade code (sweet :D) for html with classes assigned\",\"note\":\"\",\"created\":1650798583462,\"modified\":1650798611702},{\"id\":\"5o4RzWwxQoadw6eFnkWEzEct\",\"content\":\"Notes:\",\"note\":\"\",\"children\":[\"Zh0-x4CdBggIVBnLdrAY-NAw\"],\"created\":1650798601338,\"modified\":1651693438973},{\"id\":\"xP0tbYHhAR8qFzHnH_DJ948E\",\"content\":\"css then formats then very noice\",\"note\":\"\",\"created\":1650798594907,\"modified\":1650798611702},{\"id\":\"Zh0-x4CdBggIVBnLdrAY-NAw\",\"content\":\"How do \",\"note\":\"\",\"created\":1650798604776,\"modified\":1650798611702}],\"version\":71}\n"
     ]
    }
   ],
   "source": [
    "a.get_file_contents(3)"
   ]
  },
  {
   "cell_type": "code",
   "execution_count": null,
   "id": "c2dd2240",
   "metadata": {},
   "outputs": [],
   "source": []
  }
 ],
 "metadata": {
  "kernelspec": {
   "display_name": "Python 3 (ipykernel)",
   "language": "python",
   "name": "python3"
  },
  "language_info": {
   "codemirror_mode": {
    "name": "ipython",
    "version": 3
   },
   "file_extension": ".py",
   "mimetype": "text/x-python",
   "name": "python",
   "nbconvert_exporter": "python",
   "pygments_lexer": "ipython3",
   "version": "3.9.12"
  }
 },
 "nbformat": 4,
 "nbformat_minor": 5
}
