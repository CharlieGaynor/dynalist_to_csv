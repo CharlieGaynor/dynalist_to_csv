{
 "cells": [
  {
   "cell_type": "code",
   "execution_count": 133,
   "id": "743cc5a9",
   "metadata": {},
   "outputs": [],
   "source": [
    "import requests\n",
    "import json\n",
    "\n",
    "class scraper():\n",
    "    \"\"\"\n",
    "    Use the API to scrape dynalist to get the dom\n",
    "    \"\"\"\n",
    "\n",
    "    def __init__(self):\n",
    "        self.api_json = open('../../api_token.json')\n",
    "        self.token = json.load(self.api_json).get(\"token\")\n",
    "\n",
    "    def get_all_files(self):\n",
    "        \"\"\"\n",
    "        grabs all folders and files from within dynalist by querying the API\n",
    "        Stores information about the files in self.file_info\n",
    "        Stores dictionary of file id: file name, to be able to fetch the full doc\n",
    "        \"\"\"\n",
    "        \n",
    "        response = requests.post(\"https://dynalist.io/api/v1/file/list\", json.dumps({'token': self.token})).text\n",
    "        \n",
    "        # Now convert the text representation of a dictionary, into a dictionary\n",
    "        response = eval(response.replace('false', 'False').replace('true', 'True'))\n",
    "        \n",
    "        print(response)\n",
    "        files_info: list[str] = []\n",
    "        filename_id_map: dict[str: str] = {}\n",
    "\n",
    "        for file in response['files']:\n",
    "            title = file['title']\n",
    "            file_type = file['type']\n",
    "            id = file['id']\n",
    "\n",
    "            files_info.append(f\"{title} ({file_type})\")\n",
    "            filename_id_map[title] = id\n",
    "        \n",
    "        self.file_info = files_info\n",
    "        self.filename_id_map = filename_id_map"
   ]
  },
  {
   "cell_type": "code",
   "execution_count": 134,
   "id": "09acbf9d",
   "metadata": {},
   "outputs": [
    {
     "name": "stdout",
     "output_type": "stream",
     "text": [
      "{'_code': 'Ok', 'root_file_id': 'Ad-xxhHSVLvKjI2gXDA9lF6c', 'files': [{'id': 'Ad-xxhHSVLvKjI2gXDA9lF6c', 'title': 'Untitled', 'type': 'folder', 'permission': 4, 'collapsed': False, 'children': ['5kP5WcR-6dKwgqYNfYSt2b46', 'iMgo_uID9fi_Wndt0nCLHhUe']}, {'id': '5kP5WcR-6dKwgqYNfYSt2b46', 'title': 'Project priority list', 'type': 'document', 'permission': 4}, {'id': 'sgPoOIDcVfQd7sXl6W351f0A', 'title': 'Flask with python', 'type': 'document', 'permission': 4}, {'id': 'iMgo_uID9fi_Wndt0nCLHhUe', 'title': 'Udemy', 'type': 'folder', 'permission': 4, 'collapsed': False, 'children': ['vzmZp2GXcBNImUCNXY_lSW-R']}, {'id': 'vzmZp2GXcBNImUCNXY_lSW-R', 'title': 'Flask with python', 'type': 'folder', 'permission': 4, 'collapsed': False, 'children': ['sgPoOIDcVfQd7sXl6W351f0A']}]}\n"
     ]
    }
   ],
   "source": [
    "a = scraper()\n",
    "a.get_all_files()"
   ]
  },
  {
   "cell_type": "code",
   "execution_count": null,
   "id": "a650b6d4",
   "metadata": {},
   "outputs": [],
   "source": []
  },
  {
   "cell_type": "code",
   "execution_count": null,
   "id": "38198c41",
   "metadata": {},
   "outputs": [],
   "source": []
  }
 ],
 "metadata": {
  "kernelspec": {
   "display_name": "Python 3 (ipykernel)",
   "language": "python",
   "name": "python3"
  },
  "language_info": {
   "codemirror_mode": {
    "name": "ipython",
    "version": 3
   },
   "file_extension": ".py",
   "mimetype": "text/x-python",
   "name": "python",
   "nbconvert_exporter": "python",
   "pygments_lexer": "ipython3",
   "version": "3.9.12"
  }
 },
 "nbformat": 4,
 "nbformat_minor": 5
}
